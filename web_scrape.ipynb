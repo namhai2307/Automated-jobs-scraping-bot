{
 "cells": [
  {
   "cell_type": "code",
   "execution_count": 410,
   "metadata": {},
   "outputs": [],
   "source": [
    "#import relevant module\n",
    "from bs4 import BeautifulSoup, element\n",
    "import requests\n",
    "import pandas as pd\n",
    "data = {\n",
    "    \"links\": [],\n",
    "    \"name\": [],\n",
    "    \"company\": [],\n",
    "    \"location\":[],\n",
    "    \"position\": [],\n",
    "    \"salary\": [],\n",
    "    \"level\": []\n",
    "}"
   ]
  },
  {
   "cell_type": "code",
   "execution_count": 398,
   "metadata": {},
   "outputs": [],
   "source": [
    "def filter(soup, lst):\n",
    "        if isinstance(soup, element.Tag):\n",
    "            name = soup.text\n",
    "            lst.append(name)\n",
    "        elif not isinstance(soup, element.Tag):\n",
    "             lst.append(\"N/A\")\n",
    "        else:\n",
    "            lst.append(\"N/A\")"
   ]
  },
  {
   "cell_type": "markdown",
   "metadata": {},
   "source": [
    "url = \"https://www.seek.com.au/plc-engineer-jobs/in-All-Australia?page=11\"\n",
    "test = requests.get(url)\n",
    "small_soup = BeautifulSoup(test.text, \"html.parser\")\n",
    "name = small_soup.find('li', '_1ungv2r0 _1viagsnbb _1viagsnb0 _1viagsnx')\n",
    "#name = name.span\n",
    "#print(name.find(\"a\").get(\"href\"))\n",
    "print(name)\n"
   ]
  },
  {
   "cell_type": "code",
   "execution_count": 404,
   "metadata": {},
   "outputs": [],
   "source": [
    "def extract(url):\n",
    "    respone = requests.get(url)\n",
    "    soup = BeautifulSoup(respone.text, \"html.parser\")\n",
    "    cards = soup.find_all('div', '_1ungv2r0 _1viagsn4z _1viagsn4x')\n",
    "    \n",
    "    for card in cards:\n",
    "        link = card.find('a')\n",
    "        link = link.get(\"href\")\n",
    "        if link != None:\n",
    "            data[\"links\"].append(\"https://www.seek.com.au\"+str(link))\n",
    "\n",
    "    #recursion function to go to the next page\n",
    "    next_card = soup.find('li', '_1ungv2r0 _1viagsnbb _1viagsnb0 _1viagsnx')\n",
    "    while isinstance(next_card, element.Tag):\n",
    "        n_link = next_card.find('a').get('href')\n",
    "        return extract(\"https://www.seek.com.au\"+str(n_link))\n",
    "\n",
    "    #extract detail data\n",
    "    for i in data[\"links\"]:\n",
    "        #extract raw html as text format\n",
    "        jobs = requests.get(i)\n",
    "        jobs_soup = BeautifulSoup(jobs.text, \"html.parser\")\n",
    "\n",
    "\n",
    "        job_name = jobs_soup.find(\"h1\", attrs={\"class\": \"_1ungv2r0 _1viagsn4z _3h66av0 _3h66avl _1708b944 _3h66avs _3h66av21\"})\n",
    "        job_company = jobs_soup.find('span', attrs={\"class\": '_1ungv2r0 _1viagsn4z _1viagsni7 _3h66av0 _3h66av1 _3h66av21 _1708b944 _3h66ava'})\n",
    "        job_details = jobs_soup.find_all(\"div\", attrs={\"class\": \"_1ungv2r0 _1viagsn5b _1viagsnh7 _1viagsngr _157hsn62d\"})\n",
    "        \n",
    "        ##\n",
    "        filter(job_name, data[\"name\"])\n",
    "        ##\n",
    "        filter(job_company, data[\"company\"])\n",
    "        ##\n",
    "        while len(job_details) < 5:\n",
    "            job_details.append(\"N/A\")\n",
    "        ##\n",
    "        filter(job_details[1], data[\"location\"])\n",
    "        ##\n",
    "        filter(job_details[2], data[\"position\"])\n",
    "        ##\n",
    "        filter(job_details[3], data[\"level\"])\n",
    "        ##\n",
    "        filter(job_details[4], data[\"salary\"])\n"
   ]
  },
  {
   "cell_type": "code",
   "execution_count": 411,
   "metadata": {},
   "outputs": [],
   "source": [
    "url = \"https://www.seek.com.au/automation-engineer-jobs/in-All-Australia\"\n",
    "extract(url)\n",
    "df = pd.DataFrame(data)\n",
    "df\n",
    "df.to_csv(\"job_data2.csv\", index = False)\n"
   ]
  }
 ],
 "metadata": {
  "kernelspec": {
   "display_name": "Python 3",
   "language": "python",
   "name": "python3"
  },
  "language_info": {
   "codemirror_mode": {
    "name": "ipython",
    "version": 3
   },
   "file_extension": ".py",
   "mimetype": "text/x-python",
   "name": "python",
   "nbconvert_exporter": "python",
   "pygments_lexer": "ipython3",
   "version": "3.12.1"
  }
 },
 "nbformat": 4,
 "nbformat_minor": 2
}
